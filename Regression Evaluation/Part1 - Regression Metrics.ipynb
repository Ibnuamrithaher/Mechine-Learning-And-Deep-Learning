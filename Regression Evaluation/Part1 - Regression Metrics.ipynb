{
  "nbformat": 4,
  "nbformat_minor": 0,
  "metadata": {
    "colab": {
      "provenance": [],
      "authorship_tag": "ABX9TyPcnnNUFt2CvrO2+u0+ZHrl",
      "include_colab_link": true
    },
    "kernelspec": {
      "name": "python3",
      "display_name": "Python 3"
    },
    "language_info": {
      "name": "python"
    }
  },
  "cells": [
    {
      "cell_type": "markdown",
      "metadata": {
        "id": "view-in-github",
        "colab_type": "text"
      },
      "source": [
        "<a href=\"https://colab.research.google.com/github/Ibnuamrithaher/Mechine-Learning-And-Deep-Learning/blob/main/Regression%20Evaluation/Part1%20-%20Regression%20Metrics.ipynb\" target=\"_parent\"><img src=\"https://colab.research.google.com/assets/colab-badge.svg\" alt=\"Open In Colab\"/></a>"
      ]
    },
    {
      "cell_type": "code",
      "execution_count": 1,
      "metadata": {
        "colab": {
          "base_uri": "https://localhost:8080/",
          "height": 315
        },
        "id": "VNJiGXX9bps1",
        "outputId": "e3a2b313-3358-4af4-f34a-3a5d533a54ae"
      },
      "outputs": [
        {
          "output_type": "error",
          "ename": "ModuleNotFoundError",
          "evalue": "No module named 'luwiji'",
          "traceback": [
            "\u001b[0;31m---------------------------------------------------------------------------\u001b[0m",
            "\u001b[0;31mModuleNotFoundError\u001b[0m                       Traceback (most recent call last)",
            "\u001b[0;32m<ipython-input-1-5fdeb2b0c10a>\u001b[0m in \u001b[0;36m<cell line: 0>\u001b[0;34m()\u001b[0m\n\u001b[0;32m----> 1\u001b[0;31m \u001b[0;32mfrom\u001b[0m \u001b[0mluwiji\u001b[0m\u001b[0;34m.\u001b[0m\u001b[0mmetrics\u001b[0m \u001b[0;32mimport\u001b[0m \u001b[0millustration\u001b[0m\u001b[0;34m\u001b[0m\u001b[0;34m\u001b[0m\u001b[0m\n\u001b[0m",
            "\u001b[0;31mModuleNotFoundError\u001b[0m: No module named 'luwiji'",
            "",
            "\u001b[0;31m---------------------------------------------------------------------------\u001b[0;32m\nNOTE: If your import is failing due to a missing package, you can\nmanually install dependencies using either !pip or !apt.\n\nTo view examples of installing some common dependencies, click the\n\"Open Examples\" button below.\n\u001b[0;31m---------------------------------------------------------------------------\u001b[0m\n"
          ],
          "errorDetails": {
            "actions": [
              {
                "action": "open_url",
                "actionText": "Open Examples",
                "url": "/notebooks/snippets/importing_libraries.ipynb"
              }
            ]
          }
        }
      ],
      "source": [
        "from luwiji.metrics import illustration"
      ]
    },
    {
      "cell_type": "code",
      "source": [
        "\n",
        "illustration.sklearn_scoring"
      ],
      "metadata": {
        "id": "7iKdPZcLvGzL"
      },
      "execution_count": null,
      "outputs": []
    },
    {
      "cell_type": "markdown",
      "source": [
        "### **Regression Metrics**\n",
        "## R-squared\n",
        "Seberapa bagus model kita dibandingkan rata-rata semua. Berkisar dari -inf sampai 1.\n",
        "Negatif artinya lebih buruk dari menggunakan rata-rata sederhana.\n",
        "0 artinya sama baiknya dengan rata-rata. Positif artinya lebih baik dari rata-rata, dan 1 artinya error = 0\n",
        "\n",
        "## Mean Absolute Error (MAE)\n",
        "Rata-rata dari error yang dimutlakkan. Semakin kecil semakin baik.\n",
        "\n",
        "## Mean Squared Error (MSE)\n",
        "Error terhadap data kita kuadratkan lalu dirata-ratakan. Semakin kecil semakin baik.\n",
        "\n",
        "## Root Mean Squared Error (RMSE)\n",
        "akar dari MSE"
      ],
      "metadata": {
        "id": "rGW-qCzHvJnQ"
      }
    }
  ]
}